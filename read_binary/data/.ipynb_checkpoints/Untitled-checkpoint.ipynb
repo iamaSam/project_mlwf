{
 "cells": [
  {
   "cell_type": "code",
   "execution_count": 1,
   "metadata": {
    "collapsed": true
   },
   "outputs": [],
   "source": [
    "import geopandas as gpd"
   ]
  },
  {
   "cell_type": "code",
   "execution_count": 2,
   "metadata": {
    "collapsed": true
   },
   "outputs": [],
   "source": [
    "tracts = gpd.read_file('XZQ_D.shp').set_index('2000')"
   ]
  },
  {
   "cell_type": "code",
   "execution_count": 3,
   "metadata": {},
   "outputs": [
    {
     "data": {
      "text/html": [
       "<div>\n",
       "<style scoped>\n",
       "    .dataframe tbody tr th:only-of-type {\n",
       "        vertical-align: middle;\n",
       "    }\n",
       "\n",
       "    .dataframe tbody tr th {\n",
       "        vertical-align: top;\n",
       "    }\n",
       "\n",
       "    .dataframe thead th {\n",
       "        text-align: right;\n",
       "    }\n",
       "</style>\n",
       "<table border=\"1\" class=\"dataframe\">\n",
       "  <thead>\n",
       "    <tr style=\"text-align: right;\">\n",
       "      <th></th>\n",
       "      <th>XZQMC</th>\n",
       "      <th>DZZSTLSMJ</th>\n",
       "      <th>QLXS</th>\n",
       "      <th>QLDJ</th>\n",
       "      <th>geometry</th>\n",
       "    </tr>\n",
       "    <tr>\n",
       "      <th>2000</th>\n",
       "      <th></th>\n",
       "      <th></th>\n",
       "      <th></th>\n",
       "      <th></th>\n",
       "      <th></th>\n",
       "    </tr>\n",
       "  </thead>\n",
       "  <tbody>\n",
       "    <tr>\n",
       "      <th>0.000000</th>\n",
       "      <td></td>\n",
       "      <td>0.0</td>\n",
       "      <td>0.000000</td>\n",
       "      <td></td>\n",
       "      <td>(POLYGON ((110.3956144506244 21.26877466715868...</td>\n",
       "    </tr>\n",
       "    <tr>\n",
       "      <th>13679.091431</th>\n",
       "      <td>东莞市</td>\n",
       "      <td>9996.0</td>\n",
       "      <td>0.477503</td>\n",
       "      <td>Ⅲ</td>\n",
       "      <td>POLYGON ((113.7194238823601 23.14478185398629,...</td>\n",
       "    </tr>\n",
       "    <tr>\n",
       "      <th>15077.302740</th>\n",
       "      <td>中山市</td>\n",
       "      <td>10501.0</td>\n",
       "      <td>0.501626</td>\n",
       "      <td>Ⅲ</td>\n",
       "      <td>POLYGON ((113.4254376561033 22.74109336500578,...</td>\n",
       "    </tr>\n",
       "    <tr>\n",
       "      <th>6398.847730</th>\n",
       "      <td>云浮市</td>\n",
       "      <td>171212.0</td>\n",
       "      <td>8.178688</td>\n",
       "      <td>Ⅰ</td>\n",
       "      <td>POLYGON ((111.3768609066836 23.32906295075789,...</td>\n",
       "    </tr>\n",
       "    <tr>\n",
       "      <th>20230.895906</th>\n",
       "      <td>佛山市</td>\n",
       "      <td>26290.0</td>\n",
       "      <td>1.255857</td>\n",
       "      <td>Ⅲ</td>\n",
       "      <td>POLYGON ((112.8588862534731 23.57489716184597,...</td>\n",
       "    </tr>\n",
       "    <tr>\n",
       "      <th>25626.393893</th>\n",
       "      <td>广州市</td>\n",
       "      <td>32393.0</td>\n",
       "      <td>1.547393</td>\n",
       "      <td>Ⅲ</td>\n",
       "      <td>(POLYGON ((113.6788020451981 22.55962536339064...</td>\n",
       "    </tr>\n",
       "    <tr>\n",
       "      <th>13876.820295</th>\n",
       "      <td>惠州市</td>\n",
       "      <td>74838.0</td>\n",
       "      <td>3.574964</td>\n",
       "      <td>Ⅱ</td>\n",
       "      <td>(POLYGON ((114.6649842412532 22.40841976674545...</td>\n",
       "    </tr>\n",
       "    <tr>\n",
       "      <th>6001.078349</th>\n",
       "      <td>揭阳市</td>\n",
       "      <td>50175.0</td>\n",
       "      <td>2.396828</td>\n",
       "      <td>Ⅱ</td>\n",
       "      <td>(POLYGON ((116.4606978839539 22.92500816655753...</td>\n",
       "    </tr>\n",
       "    <tr>\n",
       "      <th>4727.855627</th>\n",
       "      <td>梅州市</td>\n",
       "      <td>350570.0</td>\n",
       "      <td>16.746505</td>\n",
       "      <td>Ⅰ</td>\n",
       "      <td>POLYGON ((115.8905461552629 24.94066362664126,...</td>\n",
       "    </tr>\n",
       "    <tr>\n",
       "      <th>9740.872256</th>\n",
       "      <td>汕头市</td>\n",
       "      <td>5130.0</td>\n",
       "      <td>0.245057</td>\n",
       "      <td>Ⅲ</td>\n",
       "      <td>(POLYGON ((117.2302442664382 23.20502620173388...</td>\n",
       "    </tr>\n",
       "  </tbody>\n",
       "</table>\n",
       "</div>"
      ],
      "text/plain": [
       "             XZQMC  DZZSTLSMJ       QLXS QLDJ  \\\n",
       "2000                                            \n",
       "0.000000                  0.0   0.000000        \n",
       "13679.091431   东莞市     9996.0   0.477503    Ⅲ   \n",
       "15077.302740   中山市    10501.0   0.501626    Ⅲ   \n",
       "6398.847730    云浮市   171212.0   8.178688    Ⅰ   \n",
       "20230.895906   佛山市    26290.0   1.255857    Ⅲ   \n",
       "25626.393893   广州市    32393.0   1.547393    Ⅲ   \n",
       "13876.820295   惠州市    74838.0   3.574964    Ⅱ   \n",
       "6001.078349    揭阳市    50175.0   2.396828    Ⅱ   \n",
       "4727.855627    梅州市   350570.0  16.746505    Ⅰ   \n",
       "9740.872256    汕头市     5130.0   0.245057    Ⅲ   \n",
       "\n",
       "                                                       geometry  \n",
       "2000                                                             \n",
       "0.000000      (POLYGON ((110.3956144506244 21.26877466715868...  \n",
       "13679.091431  POLYGON ((113.7194238823601 23.14478185398629,...  \n",
       "15077.302740  POLYGON ((113.4254376561033 22.74109336500578,...  \n",
       "6398.847730   POLYGON ((111.3768609066836 23.32906295075789,...  \n",
       "20230.895906  POLYGON ((112.8588862534731 23.57489716184597,...  \n",
       "25626.393893  (POLYGON ((113.6788020451981 22.55962536339064...  \n",
       "13876.820295  (POLYGON ((114.6649842412532 22.40841976674545...  \n",
       "6001.078349   (POLYGON ((116.4606978839539 22.92500816655753...  \n",
       "4727.855627   POLYGON ((115.8905461552629 24.94066362664126,...  \n",
       "9740.872256   (POLYGON ((117.2302442664382 23.20502620173388...  "
      ]
     },
     "execution_count": 3,
     "metadata": {},
     "output_type": "execute_result"
    }
   ],
   "source": [
    "tracts.head(10)"
   ]
  },
  {
   "cell_type": "code",
   "execution_count": 4,
   "metadata": {
    "collapsed": true
   },
   "outputs": [],
   "source": [
    "import pandas as pd\n",
    "import numpy as np\n",
    "from geopandas import sjoin\n",
    "import folium\n",
    "from folium.plugins import MarkerCluster\n",
    "from folium import IFrame\n",
    "import shapely\n",
    "from shapely.geometry import Point\n",
    "import unicodedata\n",
    "import pysal as ps"
   ]
  },
  {
   "cell_type": "code",
   "execution_count": 5,
   "metadata": {
    "collapsed": true
   },
   "outputs": [],
   "source": [
    "lat = []\n",
    "lon = []\n",
    "with open(\"201704040000.000\",'r') as fhandle:\n",
    "    listfile = fhandle.readlines()\n",
    "    for i in listfile[2:]:\n",
    "        b = i.split()\n",
    "        lat.append(float(b[3]))\n",
    "        lon.append(float(b[2]))\n",
    "\n",
    "def add_marker(lon,lat,obj):\n",
    "    a = '观测经度为: %s度，观测纬度为： %s' %(lon,lat)\n",
    "    folium.Marker(\n",
    "        location=[lat,lon],\n",
    "        popup=a,\n",
    "        icon=folium.Icon(color='green',icon='ok-sign'),\n",
    "    ).add_to(obj)\n",
    "    \n"
   ]
  },
  {
   "cell_type": "code",
   "execution_count": 6,
   "metadata": {},
   "outputs": [
    {
     "data": {
      "text/plain": [
       "<folium.map.LayerControl at 0x7fa2b9921eb8>"
      ]
     },
     "execution_count": 6,
     "metadata": {},
     "output_type": "execute_result"
    }
   ],
   "source": [
    "m = folium.Map([22.5,113.6],zoom_start=12)\n",
    "gdf_wgs84 = tracts.to_crs({'init':'epsg:4326'})\n",
    "m.choropleth(geo_data=gdf_wgs84.to_json())\n",
    "\n",
    "marker_cluster = MarkerCluster().add_to(m)\n",
    "for slon,slat in zip(lon,lat):\n",
    "    add_marker(slon,slat,marker_cluster)\n",
    "    \n",
    "folium.LayerControl().add_to(m)"
   ]
  },
  {
   "cell_type": "code",
   "execution_count": 7,
   "metadata": {
    "collapsed": true
   },
   "outputs": [],
   "source": [
    "m.save('test.html')"
   ]
  },
  {
   "cell_type": "code",
   "execution_count": null,
   "metadata": {
    "collapsed": true
   },
   "outputs": [],
   "source": []
  }
 ],
 "metadata": {
  "kernelspec": {
   "display_name": "Python [conda env:GEOPY]",
   "language": "python",
   "name": "conda-env-GEOPY-py"
  },
  "language_info": {
   "codemirror_mode": {
    "name": "ipython",
    "version": 3
   },
   "file_extension": ".py",
   "mimetype": "text/x-python",
   "name": "python",
   "nbconvert_exporter": "python",
   "pygments_lexer": "ipython3",
   "version": "3.5.4"
  }
 },
 "nbformat": 4,
 "nbformat_minor": 2
}
