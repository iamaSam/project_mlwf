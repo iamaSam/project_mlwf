{
 "cells": [
  {
   "cell_type": "code",
   "execution_count": 3,
   "metadata": {
    "collapsed": true
   },
   "outputs": [],
   "source": [
    "import pandas as pd    # <---python 的通用类似数据库的数据存储模块，可以轻松的实现各种分析或与其他模块的对接。\n",
    "import numpy as np     # <---这个模块就厉害了！可以说是python所有数组或矩阵计算的基础模块\n",
    "                       #，擅长处理各种各样的数据类型，还能以object形式组建数组。\n",
    "import dateparser      # <---网上查找到的处理时间信息的模块，据作者说基本可以将世界各国语言写成的人类能读懂的时间信息转化成\n",
    "                       # python中的datetime类型对象，实现进一步处理。\n",
    "import datetime        # <---时间类对象的本体模块\n",
    "import re              # <---正则表达式模块，用来快速，精准，高效的处理有规律的文本信息。\n",
    "import os              # <---跨系统平台的系统命令模块，可以使得python脚本具有跨平台运行的能力。\n",
    "#以上是本脚本主体部分需要的功能模块。\n",
    "from mpl_toolkits.basemap import Basemap \n",
    "import matplotlib.pyplot as plt\n",
    "#以上是出图以测试数据需要用到的模块。"
   ]
  },
  {
   "cell_type": "code",
   "execution_count": 50,
   "metadata": {},
   "outputs": [],
   "source": [
    "NUMBER = '[-+]?[0-9]*\\.?[0-9]+(?:[eE][-+]?[0-9]+)?'         #识别一定长度或科学计数法的范例，因经常用到就单独写了\n",
    "class CTLReader(object):\n",
    "    def __init__(self,filepath,filename,place_hold=2):\n",
    "        self.dimensions = {}\n",
    "        self.variables = {}\n",
    "        self.ctlpath = filepath\n",
    "        self.filename = filename\n",
    "#将ctl文件信息读入一个巨大的字符串中便于之后处理        \n",
    "        with open(self.ctlpath,'r') as f:\n",
    "            self.ctl = f.read()\n",
    "        self._read_data()                #读取二进制文件数据\n",
    "        self._read_dimensions()          #获取ctl中的维度信息\n",
    "        self._read_vars(place_hold)      #将二进制文件数据规整为变量明命名的数组\n",
    "    \n",
    "    def _read_data(self):        \n",
    "        self.undef = eval(re.search('undef (%s)' % NUMBER , self.ctl).group(1))    #获取CTL文件中的缺省值信息\n",
    "        big_endian = bool(re.search('options.*big_endian',self.ctl,flags=re.I))    #探测数据是否是big_endian\n",
    "        data = np.fromfile(self.filename,'f4')    #以4bytes的浮点形式（单精度）读取二进制文件\n",
    "        if big_endian:\n",
    "            data = data.byteswap()    #统一将big_endian数据进行位调换\n",
    "        self.data = np.ma.masked_values(data,self.undef)    #建立带有默认缺省值的numpy数组并添加到类的自身属性中\n",
    "        \n",
    "    def _read_dimensions(self):\n",
    "        if 'xdef' in self.ctl:    #探测是否存在xdef关键字\n",
    "            p = re.compile(\"%s\\s+(\\d+)\\s+linear\\s+(%s)\\s+(%s)\" % ('xdef',NUMBER,NUMBER))    #创建正则维度信息范式\n",
    "            m = p.search(self.ctl)\n",
    "            self.variables['longitude'] = np.linspace(float(m.group(2)),\n",
    "                                                      float(m.group(2))+float(m.group(3))*(int(m.group(1))-1),\n",
    "                                                      int(m.group(1)))\n",
    "            self.dimensions['longitude'] = int(m.group(1))\n",
    "            \n",
    "        if 'ydef' in self.ctl:    #探测是否存在ydef关键字\n",
    "            p = re.compile(\"%s\\s+(\\d+)\\s+linear\\s+(%s)\\s+(%s)\" % ('ydef',NUMBER,NUMBER))    #创建正则维度信息范式\n",
    "            m = p.search(self.ctl)\n",
    "            self.variables['latitude'] = np.linspace(float(m.group(2)),\n",
    "                                                     float(m.group(2))+float(m.group(3))*(int(m.group(1))-1),\n",
    "                                                     int(m.group(1)))\n",
    "            self.dimensions['latitude'] = int(m.group(1))\n",
    "            \n",
    "        if 'zdef' in self.ctl:    #探测是否存在zdef关键字\n",
    "            self.variables['levels'] = Variable('levels',self._parse_dimension('zdef'))    #创建“层数”信息变量\n",
    "            self.dimensions['levels'] = len(self.variables['levels'])\n",
    "            \n",
    "        if 'grapes' in self.ctl:  #探测是否存在grapes关键字\n",
    "            self.variables['time'] = Variable('time',self._parse_dimension('time'))        #创建“时间”信息变量\n",
    "            #目前只需要处理“单片”时次的数据\n",
    "            self.dimensions['time'] = 1\n",
    "            \n",
    "    def _read_vars(self,place_hold):\n",
    "        read = False    #是否识别为目标变量的开关\n",
    "\n",
    "        for line in self.ctl.split('\\n'):\n",
    "            if line.startswith('endvars'):    #探测目标变量组结束符号\n",
    "                read = False\n",
    "            if read:\n",
    "                p = re.compile('(\\w+)\\s+(\\d+)\\s+(\\d+)\\s+(.*)')    #目标变量行的正则范式\n",
    "                m = p.match(line)\n",
    "                name = m.group(1)\n",
    "                var = self.variables[name] = Variable(name)       #生成特定的变量类并在本段方法中以\"var\"的别名进行描述\n",
    "                levels = int(m.group(2))\n",
    "                SPACE = self.dimensions['latitude']*self.dimensions['longitude']\n",
    "                if levels > 0:\n",
    "                    var.dimensions = ('time','levels','latitude','longitude')    #当变量为四维数组时变量的维度信息\n",
    "                    size = self.dimensions['time']*self.dimensions['levels']*(SPACE+place_hold)\n",
    "                else:\n",
    "                    var.dimensions = ('time','latitude','longitude')    #当变量为三维数组时变量的维度信息\n",
    "                    size = self.dimensions['time']*(SPACE+place_hold)\n",
    "                \n",
    "                var.shape = tuple(self.dimensions[dim] for dim in var.dimensions)    #根据不同的维度信息创建维度宽度提示元组\n",
    "                var.data = self.data[i:i+size].reshape(-1,SPACE+place_hold)[:,\n",
    "                                                                            int(place_hold/2):\n",
    "                                                                            -int(place_hold/2)].reshape(var.shape)\n",
    "                #以上操作较复杂，主要就是重构数据，去掉头尾的占位符，再次按照维度重构数据\n",
    "                i += size    #相当与跳过一定长度的二进制数据字段\n",
    "                \n",
    "                units = int(m.group(3))    #单位信息，由于目前阶段处理数据不复杂，暂时不需要添加\n",
    "                if units != 0:             #变量的量级转化开关（这种功能交给pandas等模拟自动做吧^_^）\n",
    "                    raise NotImplementedError('for now only 0 units will be implemented!')\n",
    "                \n",
    "                var.attributes = {\n",
    "                    'long_name': m.group(4).strip(),\n",
    "                    'units': 'not needed right now'\n",
    "                }\n",
    "                #以上是变量的描述信息，及单位的存放属性\n",
    "            if line.startswith('var'):    #探测目标变量组开始符号\n",
    "                i = 0\n",
    "                read = True\n",
    "                \n",
    "    def _parse_dimension(self,dim):    #用于检索CTL信息中维度相关信息的方法\n",
    "        \n",
    "        p = re.compile(\"%s\\s+(\\d+)\\s+levels([\\s\\S]+)tdef\"  % (dim))    #获取层数的具体信息的正则范式\n",
    "        m = p.search(self.ctl)\n",
    "        if m:\n",
    "            return np.fromstring(m.group(2),sep='\\n')    #以换行符分离目标信息，并生成numpy数组\n",
    "        \n",
    "        #time info read from file name\n",
    "        if dim == 'time':    #对时间信息的定制处理\n",
    "            filetime = os.path.basename(self.filename)\n",
    "            p = re.compile('mars3km(\\d{8})(\\d+)')\n",
    "            m = p.search(filetime)\n",
    "            date = m.group(1)\n",
    "            initime = dateparser.parse(\"20%s %s %s-%s:00:00\" % (date[:2],date[2:4],date[4:6],date[6:8]))\n",
    "            endtime = initime + datetime.timedelta(hours=int(m.group(2)))\n",
    "            p = re.compile('\\s+\\d+\\s+linear\\s+[:\\w]+\\s+(\\d+)(\\w{2})')\n",
    "            m = p.search(self.ctl)\n",
    "            if m:\n",
    "                if m.group(2) == 'mn':\n",
    "                    increment = datetime.timedelta(minutes=int(m.group(1)))\n",
    "                else:\n",
    "                    increment = datetime.timedelta(hours=int(m.group(1)))\n",
    "            return np.array([initime,endtime,increment])\n",
    "        \n",
    "    \n",
    "class Variable(object):    #变量类定义\n",
    "    def __init__(self,name,data=None):    #创世纪\n",
    "        self.name = name                  #python说：“要有名字“！于是有了变量\n",
    "        self.data = data                  #python说：”要有数据“！于是有了变量      \n",
    "    def __getitem__(self,index):          #python说：”要有方法“！于是有了变量\n",
    "        return self.data[index]    \n",
    "    def __getattr__(self,key):\n",
    "        return self.attributes[key]\n",
    "    def __len__(self):\n",
    "        return len(self.data)"
   ]
  },
  {
   "cell_type": "code",
   "execution_count": 51,
   "metadata": {},
   "outputs": [],
   "source": [
    "#正式读取数据\n",
    "#data = CTLReader('./test.ctl','./mars3km17040100001.dat')"
   ]
  },
  {
   "cell_type": "code",
   "execution_count": 5,
   "metadata": {},
   "outputs": [
    {
     "name": "stdout",
     "output_type": "stream",
     "text": [
      "Using matplotlib backend: Qt5Agg\n",
      "Populating the interactive namespace from numpy and matplotlib\n"
     ]
    }
   ],
   "source": [
    "#以下是画图测试用的简单脚本，验证数据并没有读取错误的最后方法就是画出来看！\n",
    "#%pylab\n",
    "#仅当你使用jupyter时打开，可以得到一个漂亮的界面化图像操作UI"
   ]
  },
  {
   "cell_type": "code",
   "execution_count": 6,
   "metadata": {},
   "outputs": [
    {
     "data": {
      "text/plain": [
       "<matplotlib.contour.QuadContourSet at 0x7faf8d479828>"
      ]
     },
     "execution_count": 6,
     "metadata": {},
     "output_type": "execute_result"
    }
   ],
   "source": [
    "#lon,lat = np.meshgrid(np.linspace(96.6,123.3,891),np.linspace(16.6,31.3,491))\n",
    "#llcrnrlon=lon.min()\n",
    "#llcrnrlat=lat.min()\n",
    "#urcrnrlon=lon.max()\n",
    "#urcrnrlat=lat.max()\n",
    "#lon_0=(urcrnrlon-llcrnrlon)/2\n",
    "#lat_0=(urcrnrlat-llcrnrlat)/2\n",
    "#m=Basemap(lon_0=lon_0,lat_0=lat_0,llcrnrlon=llcrnrlon,llcrnrlat=llcrnrlat,\n",
    "#              urcrnrlon=urcrnrlon,urcrnrlat=urcrnrlat,resolution='l')\n",
    "#m.drawcoastlines()\n",
    "#m.drawcountries()\n",
    "#m.drawcounties()\n",
    "##m.readshapefile('./data/XZQ_D','guangdon')\n",
    "#m.contour(lon,lat,data.variables['cr'][0])"
   ]
  },
  {
   "cell_type": "code",
   "execution_count": 10,
   "metadata": {},
   "outputs": [
    {
     "name": "stdout",
     "output_type": "stream",
     "text": [
      "min 0.0 max 44.6129\n"
     ]
    }
   ],
   "source": [
    "#print('min',data.variables['cr'][0].min(),'max',data.variables['cr'][0].max())"
   ]
  }
 ],
 "metadata": {
  "kernelspec": {
   "display_name": "Python 3",
   "language": "python",
   "name": "python3"
  },
  "language_info": {
   "codemirror_mode": {
    "name": "ipython",
    "version": 3
   },
   "file_extension": ".py",
   "mimetype": "text/x-python",
   "name": "python",
   "nbconvert_exporter": "python",
   "pygments_lexer": "ipython3",
   "version": "3.6.2"
  }
 },
 "nbformat": 4,
 "nbformat_minor": 2
}
