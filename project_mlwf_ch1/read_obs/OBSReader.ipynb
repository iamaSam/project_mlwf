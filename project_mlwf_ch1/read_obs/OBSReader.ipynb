{
 "cells": [
  {
   "cell_type": "code",
   "execution_count": 3,
   "metadata": {},
   "outputs": [],
   "source": [
    "import pandas as pd\n",
    "import dateparser\n",
    "import datetime\n",
    "import os\n",
    "import re\n",
    "import geopandas as gpd\n",
    "from shapely.geometry import Point\n"
   ]
  },
  {
   "cell_type": "code",
   "execution_count": 28,
   "metadata": {},
   "outputs": [],
   "source": [
    "OBSTIME = '(\\d+)(\\.\\w+)'\n",
    "P = re.compile(\"(SYNOP)%s\" %(OBSTIME))\n",
    "GUANGDONG = gpd.read_file(os.path.abspath('./../read_binary/data/XZQ_D.shp'))\n",
    "class obs_from_file(object):\n",
    "    def __init__(self,filename,nav=-888888.0,sep=' ',incr=1):\n",
    "        self.filename  = filename\n",
    "        self._find_filegroup(incr)\n",
    "        self._read_data(nav,sep)\n",
    "        self._compute_var()\n",
    "        \n",
    "    def _find_filegroup(self,incr):\n",
    "        path = os.path.dirname(self.filename)\n",
    "        file = os.path.basename(self.filename)\n",
    "        m = P.search(file)\n",
    "        tail = m.group(3)\n",
    "        flag = m.group(1)\n",
    "        otime=m.group(2)\n",
    "        otime = dateparser.parse('20%s/%s/%s-%s:00:00' % (otime[:2],otime[2:4],otime[4:6],otime[6:8]))\n",
    "        otime_b = otime - datetime.timedelta(hours=incr)\n",
    "        otime_a = otime + datetime.timedelta(hours=incr)\n",
    "        self.filename_b = path+os.sep+flag+otime_b.strftime('%y%m%d%H')+tail\n",
    "        self.filename_a = path+os.sep+flag+otime_a.strftime('%y%m%d%H')+tail\n",
    "        \n",
    "    def _read_data(self,nav,sep):\n",
    "        data = pd.read_csv(self.filename,sep=sep,na_values=nav,index_col='station_id')\n",
    "        if os.path.isfile(self.filename_b):\n",
    "            data_b = pd.read_csv(self.filename_b,sep=sep,na_values=nav,index_col='station_id')\n",
    "        else:\n",
    "            data_b = data.copy()\n",
    "        if os.path.isfile(self.filename_a):\n",
    "            data_a = pd.read_csv(self.filename_a,sep=sep,na_values=nav,index_col='station_id')\n",
    "        else:\n",
    "            data_a = data.copy()\n",
    "        data_a.columns=data_a.columns.map(lambda x : x[:]+'_a')\n",
    "        data_b.columns=data_b.columns.map(lambda x : x[:]+'_b')    \n",
    "        df = pd.concat([data,data_b,data_a],axis=1)\n",
    "        df=df[:][pd.notnull(df['longitude'])]\n",
    "        need_to_drop=[]\n",
    "        for col in list(df):\n",
    "            if col.endswith('_a') or col.endswith('_b'):\n",
    "                need_to_drop.append(col)\n",
    "                continue\n",
    "            missing_vals = pd.isnull(df[col])\n",
    "            df[col][missing_vals] = df[col+'_b'][missing_vals]\n",
    "            missing_vals = pd.isnull(df[col])\n",
    "            df[col][missing_vals] = df[col+'_a'][missing_vals]\n",
    "        need_to_drop.append('rain_6')\n",
    "        need_to_drop.append('rain_24')\n",
    "        self.df = df.drop(need_to_drop,axis=1)\n",
    "        \n",
    "    def _compute_var(self):\n",
    "        geometry = [Point(xy) for xy in zip(self.df.longitude,self.df.latitude)]\n",
    "        crs = {'init':'epsg:4326'}\n",
    "        data = gpd.GeoDataFrame(self.df,crs=crs,geometry=geometry)\n",
    "        GUANGDONG.crs = data.crs\n",
    "        data_guangdong = gpd.sjoin(data,GUANGDONG,how='inner')\n",
    "        self.data_guangdong1 = data_guangdong\n",
    "        self.mean = data_guangdong.mean()"
   ]
  },
  {
   "cell_type": "code",
   "execution_count": 29,
   "metadata": {},
   "outputs": [],
   "source": [
    "obs_sample = obs_from_file(os.path.abspath('D:\\data_synop04\\SYNOP17040103.dat'))"
   ]
  },
  {
   "cell_type": "code",
   "execution_count": 33,
   "metadata": {},
   "outputs": [
    {
     "name": "stdout",
     "output_type": "stream",
     "text": [
      "Using matplotlib backend: Qt5Agg\n",
      "Populating the interactive namespace from numpy and matplotlib\n"
     ]
    }
   ],
   "source": [
    "%pylab"
   ]
  },
  {
   "cell_type": "code",
   "execution_count": 43,
   "metadata": {},
   "outputs": [
    {
     "data": {
      "text/plain": [
       "latitude                23.204444\n",
       "longitude              113.793889\n",
       "hour                     3.000000\n",
       "min                      0.000000\n",
       "level                    1.000000\n",
       "elevation               65.833333\n",
       "pressure              1012.975000\n",
       "psl                   1022.802778\n",
       "u_wind                  -1.498333\n",
       "v_wind                  -2.174889\n",
       "temperatura            291.812778\n",
       "dewp_temperatura       283.421111\n",
       "humidity                62.305556\n",
       "index_right             11.972222\n",
       "DZZSTLSMJ           148006.194444\n",
       "QLXS                     7.070162\n",
       "2000                  9570.216567\n",
       "dtype: float64"
      ]
     },
     "execution_count": 43,
     "metadata": {},
     "output_type": "execute_result"
    }
   ],
   "source": [
    "obs_sample.mean"
   ]
  },
  {
   "cell_type": "code",
   "execution_count": 41,
   "metadata": {},
   "outputs": [],
   "source": [
    "import matplotlib.pyplot as plt\n",
    "fig, ax = plt.subplots()\n",
    "\n",
    "ax.set_aspect('equal')\n",
    "GUANGDONG.plot(ax=ax)\n",
    "obs_sample.data_guangdong1.plot(ax=ax, marker='o', color='red', markersize=5)\n",
    "plt.show()"
   ]
  },
  {
   "cell_type": "code",
   "execution_count": null,
   "metadata": {},
   "outputs": [],
   "source": []
  }
 ],
 "metadata": {
  "kernelspec": {
   "display_name": "geopandas",
   "language": "python",
   "name": "geopandas"
  },
  "language_info": {
   "codemirror_mode": {
    "name": "ipython",
    "version": 3
   },
   "file_extension": ".py",
   "mimetype": "text/x-python",
   "name": "python",
   "nbconvert_exporter": "python",
   "pygments_lexer": "ipython3",
   "version": "3.6.4"
  }
 },
 "nbformat": 4,
 "nbformat_minor": 2
}
