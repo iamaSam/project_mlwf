{
 "cells": [
  {
   "cell_type": "code",
   "execution_count": 12,
   "metadata": {
    "collapsed": true
   },
   "outputs": [],
   "source": [
    "import pandas as pd\n",
    "import os"
   ]
  },
  {
   "cell_type": "code",
   "execution_count": 13,
   "metadata": {
    "collapsed": true
   },
   "outputs": [],
   "source": [
    "def data_clean(data):\n",
    "    flag = 0\n",
    "    for line in data[2:]:\n",
    "        if flag == 0 :\n",
    "            lv = int(line.split()[6])\n",
    "            lat ,lon = float(line.split()[2]),float(line.split()[3])\n",
    "            if (lat > 19 and lat < 26 and lon > 109 and lon < 120):\n",
    "                a.append(\" \".join(line.split()[1:17])+'\\n')\n",
    "            flag = lv\n",
    "        else:\n",
    "            flag-=1      "
   ]
  },
  {
   "cell_type": "code",
   "execution_count": 14,
   "metadata": {},
   "outputs": [],
   "source": [
    "file_list = os.listdir('/home/wenqs/data_synop04/')\n",
    "for file in file_list:\n",
    "    with open('/home/wenqs/data_synop04/'+file,'r') as f:\n",
    "        data=f.readlines()\n",
    "    a = ['station_id latitude longitude hour min level elevation pressure rain_6 rain_24 psl u_wind v_wind temperatura dewp_temperatura humidity\\n']\n",
    "    data_clean(data)\n",
    "    with open('/home/wenqs/data_synop04/'+file,'w') as f:\n",
    "        f.writelines(a)\n"
   ]
  }
 ],
 "metadata": {
  "kernelspec": {
   "display_name": "Python 3",
   "language": "python",
   "name": "python3"
  },
  "language_info": {
   "codemirror_mode": {
    "name": "ipython",
    "version": 3
   },
   "file_extension": ".py",
   "mimetype": "text/x-python",
   "name": "python",
   "nbconvert_exporter": "python",
   "pygments_lexer": "ipython3",
   "version": "3.6.2"
  }
 },
 "nbformat": 4,
 "nbformat_minor": 2
}
